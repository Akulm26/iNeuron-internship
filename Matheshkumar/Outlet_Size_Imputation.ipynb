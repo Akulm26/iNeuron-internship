{
 "cells": [
  {
   "cell_type": "code",
   "execution_count": 1,
   "id": "9ed1b01a",
   "metadata": {},
   "outputs": [],
   "source": [
    "import pandas as pd\n",
    "import numpy as np\n",
    "import matplotlib.pyplot as plt\n",
    "%matplotlib inline\n",
    "import seaborn as sns\n",
    "\n",
    "pd.set_option(\"display.max_rows\", None, \"display.max_columns\", None)\n",
    "pd.set_option('display.max_colwidth', None)"
   ]
  },
  {
   "cell_type": "code",
   "execution_count": 2,
   "id": "0a7a444a",
   "metadata": {
    "scrolled": false
   },
   "outputs": [
    {
     "data": {
      "text/html": [
       "<div>\n",
       "<style scoped>\n",
       "    .dataframe tbody tr th:only-of-type {\n",
       "        vertical-align: middle;\n",
       "    }\n",
       "\n",
       "    .dataframe tbody tr th {\n",
       "        vertical-align: top;\n",
       "    }\n",
       "\n",
       "    .dataframe thead th {\n",
       "        text-align: right;\n",
       "    }\n",
       "</style>\n",
       "<table border=\"1\" class=\"dataframe\">\n",
       "  <thead>\n",
       "    <tr style=\"text-align: right;\">\n",
       "      <th></th>\n",
       "      <th>Item_Identifier</th>\n",
       "      <th>Item_Weight</th>\n",
       "      <th>Item_Fat_Content</th>\n",
       "      <th>Item_Visibility</th>\n",
       "      <th>Item_Type</th>\n",
       "      <th>Item_MRP</th>\n",
       "      <th>Outlet_Identifier</th>\n",
       "      <th>Outlet_Establishment_Year</th>\n",
       "      <th>Outlet_Size</th>\n",
       "      <th>Outlet_Location_Type</th>\n",
       "      <th>Outlet_Type</th>\n",
       "      <th>Item_Outlet_Sales</th>\n",
       "    </tr>\n",
       "  </thead>\n",
       "  <tbody>\n",
       "    <tr>\n",
       "      <th>0</th>\n",
       "      <td>FDA15</td>\n",
       "      <td>9.30</td>\n",
       "      <td>Low Fat</td>\n",
       "      <td>0.016047</td>\n",
       "      <td>Dairy</td>\n",
       "      <td>249.8092</td>\n",
       "      <td>OUT049</td>\n",
       "      <td>1999</td>\n",
       "      <td>Medium</td>\n",
       "      <td>Tier 1</td>\n",
       "      <td>Supermarket Type1</td>\n",
       "      <td>3735.1380</td>\n",
       "    </tr>\n",
       "    <tr>\n",
       "      <th>1</th>\n",
       "      <td>DRC01</td>\n",
       "      <td>5.92</td>\n",
       "      <td>Regular</td>\n",
       "      <td>0.019278</td>\n",
       "      <td>Soft Drinks</td>\n",
       "      <td>48.2692</td>\n",
       "      <td>OUT018</td>\n",
       "      <td>2009</td>\n",
       "      <td>Medium</td>\n",
       "      <td>Tier 3</td>\n",
       "      <td>Supermarket Type2</td>\n",
       "      <td>443.4228</td>\n",
       "    </tr>\n",
       "  </tbody>\n",
       "</table>\n",
       "</div>"
      ],
      "text/plain": [
       "  Item_Identifier  Item_Weight Item_Fat_Content  Item_Visibility    Item_Type  \\\n",
       "0           FDA15         9.30          Low Fat         0.016047        Dairy   \n",
       "1           DRC01         5.92          Regular         0.019278  Soft Drinks   \n",
       "\n",
       "   Item_MRP Outlet_Identifier  Outlet_Establishment_Year Outlet_Size  \\\n",
       "0  249.8092            OUT049                       1999      Medium   \n",
       "1   48.2692            OUT018                       2009      Medium   \n",
       "\n",
       "  Outlet_Location_Type        Outlet_Type  Item_Outlet_Sales  \n",
       "0               Tier 1  Supermarket Type1          3735.1380  \n",
       "1               Tier 3  Supermarket Type2           443.4228  "
      ]
     },
     "execution_count": 2,
     "metadata": {},
     "output_type": "execute_result"
    }
   ],
   "source": [
    "df = pd.read_csv(\"Train.csv\")\n",
    "df.head(2)"
   ]
  },
  {
   "cell_type": "code",
   "execution_count": 3,
   "id": "6f285466",
   "metadata": {},
   "outputs": [
    {
     "data": {
      "text/plain": [
       "2410"
      ]
     },
     "execution_count": 3,
     "metadata": {},
     "output_type": "execute_result"
    }
   ],
   "source": [
    "df.Outlet_Size.isnull().sum()"
   ]
  },
  {
   "cell_type": "code",
   "execution_count": 4,
   "id": "519b50da",
   "metadata": {},
   "outputs": [
    {
     "data": {
      "text/plain": [
       "0    Medium\n",
       "dtype: object"
      ]
     },
     "execution_count": 4,
     "metadata": {},
     "output_type": "execute_result"
    }
   ],
   "source": [
    "df.Outlet_Size.mode()"
   ]
  },
  {
   "cell_type": "code",
   "execution_count": 5,
   "id": "0e63c143",
   "metadata": {},
   "outputs": [
    {
     "data": {
      "text/plain": [
       "Medium    2793\n",
       "Small     2388\n",
       "High       932\n",
       "Name: Outlet_Size, dtype: int64"
      ]
     },
     "execution_count": 5,
     "metadata": {},
     "output_type": "execute_result"
    }
   ],
   "source": [
    "df['Outlet_Size'].value_counts()"
   ]
  },
  {
   "cell_type": "code",
   "execution_count": 16,
   "id": "45bf5e8f",
   "metadata": {},
   "outputs": [
    {
     "data": {
      "text/plain": [
       "[Text(0, 0, '2793'), Text(0, 0, '932'), Text(0, 0, '2388')]"
      ]
     },
     "execution_count": 16,
     "metadata": {},
     "output_type": "execute_result"
    },
    {
     "data": {
      "image/png": "[encoded data removed]",
      "text/plain": [
       "<Figure size 432x288 with 1 Axes>"
      ]
     },
     "metadata": {
      "needs_background": "light"
     },
     "output_type": "display_data"
    }
   ],
   "source": [
    "g1 = sns.countplot(x=\"Outlet_Size\", data=df)\n",
    "\n",
    "g1.bar_label(g1.containers[0])"
   ]
  },
  {
   "cell_type": "markdown",
   "id": "8436d645",
   "metadata": {},
   "source": [
    "### Outlet_Size  vs  Outlet_Type"
   ]
  },
  {
   "cell_type": "code",
   "execution_count": 14,
   "id": "695d760c",
   "metadata": {},
   "outputs": [
    {
     "data": {
      "image/png": "[encoded data removed]",
      "text/plain": [
       "<Figure size 432x288 with 1 Axes>"
      ]
     },
     "metadata": {
      "needs_background": "light"
     },
     "output_type": "display_data"
    }
   ],
   "source": [
    "plt.title(\"Outlet_Size vs Outlet_Type\")\n",
    "g1 = sns.countplot(x=\"Outlet_Size\", hue=\"Outlet_Type\", data=df)\n",
    "\n",
    "for container in g1.containers:\n",
    "    g1.bar_label(container)"
   ]
  },
  {
   "cell_type": "markdown",
   "id": "152aa4a6",
   "metadata": {},
   "source": [
    "From the above output cell, \n",
    "### Assumption 1\n",
    "    1. Products in Grocery Store always have Small Outlet Size."
   ]
  },
  {
   "cell_type": "code",
   "execution_count": 33,
   "id": "a1878b4b",
   "metadata": {},
   "outputs": [
    {
     "data": {
      "image/png": "[encoded data removed]",
      "text/plain": [
       "<Figure size 936x360 with 2 Axes>"
      ]
     },
     "metadata": {
      "needs_background": "light"
     },
     "output_type": "display_data"
    }
   ],
   "source": [
    "plt.figure(figsize=(13,5))\n",
    "\n",
    "plt.subplot(1,2,1)\n",
    "plt.title(\"Outlet_Location_Type: Grocery Store\")\n",
    "g1 = sns.countplot(x=\"Outlet_Location_Type\", data=df[df.Outlet_Type == \"Grocery Store\"])\n",
    "for container in g1.containers:\n",
    "    g1.bar_label(container)\n",
    "\n",
    "plt.subplot(1,2,2)\n",
    "plt.title(\"Outlet_Location_Type: Grocery Store vs Outlet_Size\")\n",
    "g2 = sns.countplot(x=\"Outlet_Location_Type\", hue=\"Outlet_Size\", data=df[df.Outlet_Type == \"Grocery Store\"])\n",
    "for container in g2.containers:\n",
    "    g2.bar_label(container)"
   ]
  },
  {
   "cell_type": "code",
   "execution_count": 34,
   "id": "e930ea06",
   "metadata": {},
   "outputs": [],
   "source": [
    "# Filling nan value in outlet_size column with \"Small\" if the products outlet_type is grocery store\n",
    "\n",
    "for i in range(0, len(df)):\n",
    "    if pd.isnull(df.at[i, 'Outlet_Size']) and df.at[i, 'Outlet_Type']==\"Grocery Store\":\n",
    "        df.at[i, 'Outlet_Size'] = \"Small\""
   ]
  },
  {
   "cell_type": "markdown",
   "id": "2aecf7f4",
   "metadata": {},
   "source": [
    "### After missing value treatment with assumption 1"
   ]
  },
  {
   "cell_type": "code",
   "execution_count": 35,
   "id": "efe0fb89",
   "metadata": {},
   "outputs": [
    {
     "data": {
      "text/plain": [
       "1855"
      ]
     },
     "execution_count": 35,
     "metadata": {},
     "output_type": "execute_result"
    }
   ],
   "source": [
    "# Remaining missing value count in outlet size\n",
    "\n",
    "df.Outlet_Size.isnull().sum()"
   ]
  },
  {
   "cell_type": "code",
   "execution_count": 36,
   "id": "3419bdf1",
   "metadata": {},
   "outputs": [
    {
     "data": {
      "text/plain": [
       "1855"
      ]
     },
     "execution_count": 36,
     "metadata": {},
     "output_type": "execute_result"
    }
   ],
   "source": [
    "# No of rows with nan value in outlet_size column if the products outlet_type is Supermarket Type3\n",
    "\n",
    "df[df['Outlet_Type'] == \"Supermarket Type1\"].Outlet_Size.isnull().sum()"
   ]
  },
  {
   "cell_type": "code",
   "execution_count": 37,
   "id": "67fe3058",
   "metadata": {},
   "outputs": [],
   "source": [
    "# No of rows with nan value in outlet_size column if the products outlet_type is Supermarket Type1 and outlet_location_type is Tier 3\n",
    "\n",
    "key_names = [\"Outlet_Type\", \"Outlet_Location_Type\"]\n",
    "keys = [\"Supermarket Type1\", \"Tier 2\"]\n",
    "\n",
    "temp = df[(df[key_names] == keys).all(1)]"
   ]
  },
  {
   "cell_type": "code",
   "execution_count": 38,
   "id": "02e0051f",
   "metadata": {},
   "outputs": [
    {
     "data": {
      "text/plain": [
       "2785"
      ]
     },
     "execution_count": 38,
     "metadata": {},
     "output_type": "execute_result"
    }
   ],
   "source": [
    "len(temp)"
   ]
  },
  {
   "cell_type": "code",
   "execution_count": 39,
   "id": "da37bc4c",
   "metadata": {},
   "outputs": [
    {
     "data": {
      "text/plain": [
       "1855"
      ]
     },
     "execution_count": 39,
     "metadata": {},
     "output_type": "execute_result"
    }
   ],
   "source": [
    "temp.Outlet_Size.isnull().sum()"
   ]
  },
  {
   "cell_type": "code",
   "execution_count": 40,
   "id": "1c81deca",
   "metadata": {},
   "outputs": [
    {
     "data": {
      "text/plain": [
       "Small    930\n",
       "Name: Outlet_Size, dtype: int64"
      ]
     },
     "execution_count": 40,
     "metadata": {},
     "output_type": "execute_result"
    }
   ],
   "source": [
    "temp.Outlet_Size.value_counts()"
   ]
  },
  {
   "cell_type": "markdown",
   "id": "a08bcc8d",
   "metadata": {},
   "source": [
    "From the above 5 output cells, \n",
    "### Assumption 2\n",
    "    Products distributed to Supermarket Type1 with Tier 2 location always have small product size"
   ]
  },
  {
   "cell_type": "code",
   "execution_count": 42,
   "id": "1a7d63a0",
   "metadata": {},
   "outputs": [],
   "source": [
    "# Filling nan value in outlet_size column with \"Small\" if the products outlet_type is supermarket type1 and outlet location is tier2\n",
    "\n",
    "for i in range(0, len(df)):\n",
    "    if pd.isnull(df.at[i, 'Outlet_Size']) and df.at[i, 'Outlet_Type']==\"Supermarket Type1\" and df.at[i, 'Outlet_Location_Type']==\"Tier 2\":\n",
    "        df.at[i, 'Outlet_Size'] = \"Small\""
   ]
  },
  {
   "cell_type": "markdown",
   "id": "476f8733",
   "metadata": {},
   "source": [
    "### After missing value treatment with assumption 2"
   ]
  },
  {
   "cell_type": "code",
   "execution_count": 43,
   "id": "3a8576f9",
   "metadata": {},
   "outputs": [
    {
     "data": {
      "text/plain": [
       "0"
      ]
     },
     "execution_count": 43,
     "metadata": {},
     "output_type": "execute_result"
    }
   ],
   "source": [
    "df.Outlet_Size.isnull().sum()"
   ]
  },
  {
   "cell_type": "code",
   "execution_count": 68,
   "id": "21ced32f",
   "metadata": {},
   "outputs": [
    {
     "data": {
      "image/png": "[encoded data removed]",
      "text/plain": [
       "<Figure size 720x504 with 1 Axes>"
      ]
     },
     "metadata": {
      "needs_background": "light"
     },
     "output_type": "display_data"
    }
   ],
   "source": [
    "plt.figure(figsize=(10,7))\n",
    "g1 = sns.countplot(x=\"Outlet_Size\", hue=\"Outlet_Type\", data=df)\n",
    "\n",
    "for container in g1.containers:\n",
    "    g1.bar_label(container)"
   ]
  },
  {
   "cell_type": "markdown",
   "id": "ae1afc39",
   "metadata": {},
   "source": [
    "## Additional Info's"
   ]
  },
  {
   "cell_type": "code",
   "execution_count": 45,
   "id": "5b62d1fd",
   "metadata": {},
   "outputs": [],
   "source": [
    "df_bmv = pd.read_csv(\"Train.csv\")"
   ]
  },
  {
   "cell_type": "code",
   "execution_count": 59,
   "id": "9efd23e0",
   "metadata": {},
   "outputs": [
    {
     "name": "stdout",
     "output_type": "stream",
     "text": [
      "OUT049 \t 930 \t 0\n",
      "OUT018 \t 928 \t 0\n",
      "OUT010 \t 555 \t 555\n",
      "OUT013 \t 932 \t 0\n",
      "OUT027 \t 935 \t 0\n",
      "OUT045 \t 929 \t 929\n",
      "OUT017 \t 926 \t 926\n",
      "OUT046 \t 930 \t 0\n",
      "OUT035 \t 930 \t 0\n",
      "OUT019 \t 528 \t 0\n"
     ]
    }
   ],
   "source": [
    "outlet_identifiers = ['OUT049', 'OUT018', 'OUT010', 'OUT013', 'OUT027', 'OUT045', 'OUT017', 'OUT046', 'OUT035', 'OUT019']\n",
    "\n",
    "for i in outlet_identifiers:\n",
    "    temp = df_bmv[df_bmv.Outlet_Identifier == str(i)]\n",
    "    print(i, \"\\t\", len(temp), \"\\t\", temp.Outlet_Size.isnull().sum())"
   ]
  },
  {
   "cell_type": "code",
   "execution_count": 57,
   "id": "c6abcd26",
   "metadata": {},
   "outputs": [
    {
     "name": "stdout",
     "output_type": "stream",
     "text": [
      "OUT049 \t 930 \t Medium\n",
      "OUT018 \t 928 \t Medium\n",
      "OUT013 \t 932 \t High\n",
      "OUT027 \t 935 \t Medium\n",
      "OUT046 \t 930 \t Small\n",
      "OUT035 \t 930 \t Small\n",
      "OUT019 \t 528 \t Small\n"
     ]
    }
   ],
   "source": [
    "outlet_identifiers = ['OUT049', 'OUT018', 'OUT013', 'OUT027', 'OUT046', 'OUT035', 'OUT019']\n",
    "\n",
    "for i in outlet_identifiers:\n",
    "    temp = df_bmv[df_bmv.Outlet_Identifier == str(i)]\n",
    "    print(i, \"\\t\", len(temp), \"\\t\", temp.Outlet_Size.unique()[0])"
   ]
  },
  {
   "cell_type": "code",
   "execution_count": null,
   "id": "f8c921b2",
   "metadata": {},
   "outputs": [],
   "source": []
  }
 ],
 "metadata": {
  "kernelspec": {
   "display_name": "Python 3",
   "language": "python",
   "name": "python3"
  },
  "language_info": {
   "codemirror_mode": {
    "name": "ipython",
    "version": 3
   },
   "file_extension": ".py",
   "mimetype": "text/x-python",
   "name": "python",
   "nbconvert_exporter": "python",
   "pygments_lexer": "ipython3",
   "version": "3.9.1"
  }
 },
 "nbformat": 4,
 "nbformat_minor": 5
}
